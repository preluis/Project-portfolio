{
 "cells": [
  {
   "cell_type": "code",
   "execution_count": 26,
   "id": "1dc29461-4441-4773-8a4c-e25c95cb095b",
   "metadata": {
    "tags": []
   },
   "outputs": [],
   "source": [
    "import pandas as pd\n",
    "import matplotlib.pyplot as plt\n",
    "import seaborn as sns"
   ]
  },
  {
   "cell_type": "markdown",
   "id": "bb3b0213-c7ff-44da-adf8-ff1ddd906462",
   "metadata": {},
   "source": [
    "## Parte 1: Explorando los datos"
   ]
  },
  {
   "cell_type": "code",
   "execution_count": 2,
   "id": "aa64c3b6-d5b9-42b8-b44a-e114345e2167",
   "metadata": {
    "tags": []
   },
   "outputs": [
    {
     "data": {
      "text/html": [
       "<div>\n",
       "<style scoped>\n",
       "    .dataframe tbody tr th:only-of-type {\n",
       "        vertical-align: middle;\n",
       "    }\n",
       "\n",
       "    .dataframe tbody tr th {\n",
       "        vertical-align: top;\n",
       "    }\n",
       "\n",
       "    .dataframe thead th {\n",
       "        text-align: right;\n",
       "    }\n",
       "</style>\n",
       "<table border=\"1\" class=\"dataframe\">\n",
       "  <thead>\n",
       "    <tr style=\"text-align: right;\">\n",
       "      <th></th>\n",
       "      <th>valence</th>\n",
       "      <th>year</th>\n",
       "      <th>acousticness</th>\n",
       "      <th>artists</th>\n",
       "      <th>danceability</th>\n",
       "      <th>duration_ms</th>\n",
       "      <th>energy</th>\n",
       "      <th>explicit</th>\n",
       "      <th>id</th>\n",
       "      <th>instrumentalness</th>\n",
       "      <th>key</th>\n",
       "      <th>liveness</th>\n",
       "      <th>loudness</th>\n",
       "      <th>mode</th>\n",
       "      <th>name</th>\n",
       "      <th>popularity</th>\n",
       "      <th>release_date</th>\n",
       "      <th>speechiness</th>\n",
       "      <th>tempo</th>\n",
       "    </tr>\n",
       "  </thead>\n",
       "  <tbody>\n",
       "    <tr>\n",
       "      <th>0</th>\n",
       "      <td>0.0594</td>\n",
       "      <td>1921</td>\n",
       "      <td>0.982</td>\n",
       "      <td>['Sergei Rachmaninoff', 'James Levine', 'Berli...</td>\n",
       "      <td>0.279</td>\n",
       "      <td>831667</td>\n",
       "      <td>0.211</td>\n",
       "      <td>0</td>\n",
       "      <td>4BJqT0PrAfrxzMOxytFOIz</td>\n",
       "      <td>0.878000</td>\n",
       "      <td>10</td>\n",
       "      <td>0.665</td>\n",
       "      <td>-20.096</td>\n",
       "      <td>1</td>\n",
       "      <td>Piano Concerto No. 3 in D Minor, Op. 30: III. ...</td>\n",
       "      <td>4</td>\n",
       "      <td>1921</td>\n",
       "      <td>0.0366</td>\n",
       "      <td>80.954</td>\n",
       "    </tr>\n",
       "    <tr>\n",
       "      <th>1</th>\n",
       "      <td>0.9630</td>\n",
       "      <td>1921</td>\n",
       "      <td>0.732</td>\n",
       "      <td>['Dennis Day']</td>\n",
       "      <td>0.819</td>\n",
       "      <td>180533</td>\n",
       "      <td>0.341</td>\n",
       "      <td>0</td>\n",
       "      <td>7xPhfUan2yNtyFG0cUWkt8</td>\n",
       "      <td>0.000000</td>\n",
       "      <td>7</td>\n",
       "      <td>0.160</td>\n",
       "      <td>-12.441</td>\n",
       "      <td>1</td>\n",
       "      <td>Clancy Lowered the Boom</td>\n",
       "      <td>5</td>\n",
       "      <td>1921</td>\n",
       "      <td>0.4150</td>\n",
       "      <td>60.936</td>\n",
       "    </tr>\n",
       "    <tr>\n",
       "      <th>2</th>\n",
       "      <td>0.0394</td>\n",
       "      <td>1921</td>\n",
       "      <td>0.961</td>\n",
       "      <td>['KHP Kridhamardawa Karaton Ngayogyakarta Hadi...</td>\n",
       "      <td>0.328</td>\n",
       "      <td>500062</td>\n",
       "      <td>0.166</td>\n",
       "      <td>0</td>\n",
       "      <td>1o6I8BglA6ylDMrIELygv1</td>\n",
       "      <td>0.913000</td>\n",
       "      <td>3</td>\n",
       "      <td>0.101</td>\n",
       "      <td>-14.850</td>\n",
       "      <td>1</td>\n",
       "      <td>Gati Bali</td>\n",
       "      <td>5</td>\n",
       "      <td>1921</td>\n",
       "      <td>0.0339</td>\n",
       "      <td>110.339</td>\n",
       "    </tr>\n",
       "    <tr>\n",
       "      <th>3</th>\n",
       "      <td>0.1650</td>\n",
       "      <td>1921</td>\n",
       "      <td>0.967</td>\n",
       "      <td>['Frank Parker']</td>\n",
       "      <td>0.275</td>\n",
       "      <td>210000</td>\n",
       "      <td>0.309</td>\n",
       "      <td>0</td>\n",
       "      <td>3ftBPsC5vPBKxYSee08FDH</td>\n",
       "      <td>0.000028</td>\n",
       "      <td>5</td>\n",
       "      <td>0.381</td>\n",
       "      <td>-9.316</td>\n",
       "      <td>1</td>\n",
       "      <td>Danny Boy</td>\n",
       "      <td>3</td>\n",
       "      <td>1921</td>\n",
       "      <td>0.0354</td>\n",
       "      <td>100.109</td>\n",
       "    </tr>\n",
       "    <tr>\n",
       "      <th>4</th>\n",
       "      <td>0.2530</td>\n",
       "      <td>1921</td>\n",
       "      <td>0.957</td>\n",
       "      <td>['Phil Regan']</td>\n",
       "      <td>0.418</td>\n",
       "      <td>166693</td>\n",
       "      <td>0.193</td>\n",
       "      <td>0</td>\n",
       "      <td>4d6HGyGT8e121BsdKmw9v6</td>\n",
       "      <td>0.000002</td>\n",
       "      <td>3</td>\n",
       "      <td>0.229</td>\n",
       "      <td>-10.096</td>\n",
       "      <td>1</td>\n",
       "      <td>When Irish Eyes Are Smiling</td>\n",
       "      <td>2</td>\n",
       "      <td>1921</td>\n",
       "      <td>0.0380</td>\n",
       "      <td>101.665</td>\n",
       "    </tr>\n",
       "  </tbody>\n",
       "</table>\n",
       "</div>"
      ],
      "text/plain": [
       "   valence  year  acousticness  \\\n",
       "0   0.0594  1921         0.982   \n",
       "1   0.9630  1921         0.732   \n",
       "2   0.0394  1921         0.961   \n",
       "3   0.1650  1921         0.967   \n",
       "4   0.2530  1921         0.957   \n",
       "\n",
       "                                             artists  danceability  \\\n",
       "0  ['Sergei Rachmaninoff', 'James Levine', 'Berli...         0.279   \n",
       "1                                     ['Dennis Day']         0.819   \n",
       "2  ['KHP Kridhamardawa Karaton Ngayogyakarta Hadi...         0.328   \n",
       "3                                   ['Frank Parker']         0.275   \n",
       "4                                     ['Phil Regan']         0.418   \n",
       "\n",
       "   duration_ms  energy  explicit                      id  instrumentalness  \\\n",
       "0       831667   0.211         0  4BJqT0PrAfrxzMOxytFOIz          0.878000   \n",
       "1       180533   0.341         0  7xPhfUan2yNtyFG0cUWkt8          0.000000   \n",
       "2       500062   0.166         0  1o6I8BglA6ylDMrIELygv1          0.913000   \n",
       "3       210000   0.309         0  3ftBPsC5vPBKxYSee08FDH          0.000028   \n",
       "4       166693   0.193         0  4d6HGyGT8e121BsdKmw9v6          0.000002   \n",
       "\n",
       "   key  liveness  loudness  mode  \\\n",
       "0   10     0.665   -20.096     1   \n",
       "1    7     0.160   -12.441     1   \n",
       "2    3     0.101   -14.850     1   \n",
       "3    5     0.381    -9.316     1   \n",
       "4    3     0.229   -10.096     1   \n",
       "\n",
       "                                                name  popularity release_date  \\\n",
       "0  Piano Concerto No. 3 in D Minor, Op. 30: III. ...           4         1921   \n",
       "1                            Clancy Lowered the Boom           5         1921   \n",
       "2                                          Gati Bali           5         1921   \n",
       "3                                          Danny Boy           3         1921   \n",
       "4                        When Irish Eyes Are Smiling           2         1921   \n",
       "\n",
       "   speechiness    tempo  \n",
       "0       0.0366   80.954  \n",
       "1       0.4150   60.936  \n",
       "2       0.0339  110.339  \n",
       "3       0.0354  100.109  \n",
       "4       0.0380  101.665  "
      ]
     },
     "execution_count": 2,
     "metadata": {},
     "output_type": "execute_result"
    }
   ],
   "source": [
    "#Renaming data source\n",
    "spotify = pd.read_csv('./../data/data.csv')\n",
    "\n",
    "# Showing data header\n",
    "spotify.head()\n"
   ]
  },
  {
   "cell_type": "code",
   "execution_count": 14,
   "id": "e270640a-4027-4b1d-97d5-1e05455e17cd",
   "metadata": {
    "tags": []
   },
   "outputs": [],
   "source": [
    "#Variale description:\n",
    "\n",
    "#Valence: A measure from 0.0 to 1.0 describing the musical positiveness conveyed by a track.\n",
    "#Year: Realase year.\n",
    "#Acousticness: A confidence measure from 0.0 to 1.0 of whether the track is acoustic. 1.0 represents high confidence the track is\n",
    "#Artists\n",
    "#Danceability: Danceability describes how suitable a track is for dancing based on a combination of musical elements including tempo\n",
    "#Duration_ms\n",
    "#Energy: Energy is a measure from 0.0 to 1.0 and represents a perceptual measure of intensity and activity. \n",
    "#Explicit: ?\n",
    "#ID: Spotify ID\n",
    "#Intrumentalness: Predicts whether a track contains no vocals. “Ooh” and “aah” sounds are treated as instrumental in this context.\n",
    "#Key: The key the track is in. Integers map to pitches using standard Pitch Class notation \n",
    "#Liveness: Detects the presence of an audience in the recording.\n",
    "#Loudness: The overall loudness of a track in decibels (dB). Loudness values are averaged across the entire track and are useful\n",
    "#Mode: Mode indicates the modality (major or minor) of a track, the type of scale from which its melodic content is\n",
    "#Name: Song's name\n",
    "#Popularity: The higher the value the more popular the song is.\n",
    "#Release date: Relase date\n",
    "#Speechiness: Speechiness detects the presence of spoken words in a track.\n",
    "#Tempo: The overall estimated tempo of a track in beats per minute (BPM)\n"
   ]
  },
  {
   "cell_type": "code",
   "execution_count": 9,
   "id": "9d02e195-f2f0-4fa7-86aa-3f5e6c7ec5a8",
   "metadata": {
    "tags": []
   },
   "outputs": [
    {
     "data": {
      "text/plain": [
       "(170653, 19)"
      ]
     },
     "execution_count": 9,
     "metadata": {},
     "output_type": "execute_result"
    }
   ],
   "source": [
    "# Exploring data shape\n",
    "spotify.shape"
   ]
  },
  {
   "cell_type": "code",
   "execution_count": 8,
   "id": "e79669da-1178-49f8-b806-e050b053833b",
   "metadata": {
    "tags": []
   },
   "outputs": [
    {
     "data": {
      "text/plain": [
       "valence             float64\n",
       "year                  int64\n",
       "acousticness        float64\n",
       "artists              object\n",
       "danceability        float64\n",
       "duration_ms           int64\n",
       "energy              float64\n",
       "explicit              int64\n",
       "id                   object\n",
       "instrumentalness    float64\n",
       "key                   int64\n",
       "liveness            float64\n",
       "loudness            float64\n",
       "mode                  int64\n",
       "name                 object\n",
       "popularity            int64\n",
       "release_date         object\n",
       "speechiness         float64\n",
       "tempo               float64\n",
       "dtype: object"
      ]
     },
     "execution_count": 8,
     "metadata": {},
     "output_type": "execute_result"
    }
   ],
   "source": [
    "# Exploring data type per variable\n",
    "spotify.dtypes"
   ]
  },
  {
   "cell_type": "code",
   "execution_count": 10,
   "id": "fd57c8ce-ef6c-45d8-89b3-a5739a2b2f73",
   "metadata": {
    "tags": []
   },
   "outputs": [],
   "source": [
    "#Checking and erasing duplicates\n",
    "spotify2=spotify.drop_duplicates(subset=['name','danceability'],keep='last')\n",
    "spotify2.shape\n",
    "spotify = spotify2\n"
   ]
  },
  {
   "cell_type": "code",
   "execution_count": 18,
   "id": "e0bb4924-b98b-4050-bc5f-fd3bf935826c",
   "metadata": {
    "tags": []
   },
   "outputs": [],
   "source": [
    "# Questions per variable:\n",
    "\n",
    "# Technical music characteristics (13): Valence, Acousticness, Danceability, Duration, Energy, Explicit, Instrumentalness, Key, Liveness, Loudness, Mode, Speechiness and tempo would be considered\n",
    "# technical music characteristics, from which similar questions can be asked.\n",
    "\n",
    "# Which are the top 5 dancebility songs for all time?\n",
    "# Which are the top 5 Liveness songs for 2015?\n",
    "# How has music duration evolve through the years?\n",
    "\n",
    "#Year/Release date (2):\n",
    "\n",
    "#Which years are considered in the dataset?\n",
    "#Which year is more represented?\n",
    "#Which year has the most popular songs?\n",
    "\n",
    "#Artists:\n",
    "\n",
    "#Which are the most popular artist in history?\n",
    "#Which artist has the most danceable songs?\n",
    "\n",
    "#ID:\n",
    "\n",
    "#Name:\n",
    "\n",
    "#Popularity:\n",
    "\n",
    "# Variables relations:\n",
    "\n",
    "# Higher danceability higher popularity?\n"
   ]
  },
  {
   "cell_type": "code",
   "execution_count": 11,
   "id": "e91c3a9f-684f-4c58-a20d-49a0d973976f",
   "metadata": {
    "scrolled": true,
    "tags": []
   },
   "outputs": [
    {
     "data": {
      "text/html": [
       "<div>\n",
       "<style scoped>\n",
       "    .dataframe tbody tr th:only-of-type {\n",
       "        vertical-align: middle;\n",
       "    }\n",
       "\n",
       "    .dataframe tbody tr th {\n",
       "        vertical-align: top;\n",
       "    }\n",
       "\n",
       "    .dataframe thead th {\n",
       "        text-align: right;\n",
       "    }\n",
       "</style>\n",
       "<table border=\"1\" class=\"dataframe\">\n",
       "  <thead>\n",
       "    <tr style=\"text-align: right;\">\n",
       "      <th></th>\n",
       "      <th>valence</th>\n",
       "      <th>year</th>\n",
       "      <th>acousticness</th>\n",
       "      <th>artists</th>\n",
       "      <th>danceability</th>\n",
       "      <th>duration_ms</th>\n",
       "      <th>energy</th>\n",
       "      <th>explicit</th>\n",
       "      <th>id</th>\n",
       "      <th>instrumentalness</th>\n",
       "      <th>key</th>\n",
       "      <th>liveness</th>\n",
       "      <th>loudness</th>\n",
       "      <th>mode</th>\n",
       "      <th>name</th>\n",
       "      <th>popularity</th>\n",
       "      <th>release_date</th>\n",
       "      <th>speechiness</th>\n",
       "      <th>tempo</th>\n",
       "    </tr>\n",
       "  </thead>\n",
       "  <tbody>\n",
       "    <tr>\n",
       "      <th>13489</th>\n",
       "      <td>0.929</td>\n",
       "      <td>1989</td>\n",
       "      <td>0.07550</td>\n",
       "      <td>['Tone-Loc']</td>\n",
       "      <td>0.988</td>\n",
       "      <td>248160</td>\n",
       "      <td>0.633</td>\n",
       "      <td>0</td>\n",
       "      <td>5YIF6HSOtHN9HdcE5IPzMe</td>\n",
       "      <td>0.000002</td>\n",
       "      <td>5</td>\n",
       "      <td>0.0668</td>\n",
       "      <td>-15.012</td>\n",
       "      <td>0</td>\n",
       "      <td>Funky Cold Medina</td>\n",
       "      <td>56</td>\n",
       "      <td>1989-01-01</td>\n",
       "      <td>0.0888</td>\n",
       "      <td>117.493</td>\n",
       "    </tr>\n",
       "    <tr>\n",
       "      <th>167931</th>\n",
       "      <td>0.761</td>\n",
       "      <td>2007</td>\n",
       "      <td>0.14500</td>\n",
       "      <td>['Young Boss', 'Trina', 'Pitbull']</td>\n",
       "      <td>0.986</td>\n",
       "      <td>229669</td>\n",
       "      <td>0.597</td>\n",
       "      <td>1</td>\n",
       "      <td>5IbMUI4rcWtXlq83UWqTcQ</td>\n",
       "      <td>0.000002</td>\n",
       "      <td>8</td>\n",
       "      <td>0.1970</td>\n",
       "      <td>-6.809</td>\n",
       "      <td>1</td>\n",
       "      <td>Go Girl</td>\n",
       "      <td>43</td>\n",
       "      <td>2007-11-27</td>\n",
       "      <td>0.3080</td>\n",
       "      <td>115.004</td>\n",
       "    </tr>\n",
       "    <tr>\n",
       "      <th>170107</th>\n",
       "      <td>0.584</td>\n",
       "      <td>2018</td>\n",
       "      <td>0.21200</td>\n",
       "      <td>['ITSOKTOCRY']</td>\n",
       "      <td>0.985</td>\n",
       "      <td>138715</td>\n",
       "      <td>0.438</td>\n",
       "      <td>1</td>\n",
       "      <td>5N6USyYyAuSyysUQ1xncYc</td>\n",
       "      <td>0.000054</td>\n",
       "      <td>1</td>\n",
       "      <td>0.1160</td>\n",
       "      <td>-11.004</td>\n",
       "      <td>1</td>\n",
       "      <td>POP, LOCK &amp; DROPDEAD</td>\n",
       "      <td>60</td>\n",
       "      <td>2018-03-18</td>\n",
       "      <td>0.0712</td>\n",
       "      <td>118.079</td>\n",
       "    </tr>\n",
       "    <tr>\n",
       "      <th>154089</th>\n",
       "      <td>0.105</td>\n",
       "      <td>2015</td>\n",
       "      <td>0.00366</td>\n",
       "      <td>['Astra Teck']</td>\n",
       "      <td>0.983</td>\n",
       "      <td>419999</td>\n",
       "      <td>0.673</td>\n",
       "      <td>0</td>\n",
       "      <td>2uFhbAbYjgvjnNkZ2tuMUA</td>\n",
       "      <td>0.687000</td>\n",
       "      <td>7</td>\n",
       "      <td>0.1120</td>\n",
       "      <td>-6.013</td>\n",
       "      <td>1</td>\n",
       "      <td>Monday Nineteen Hours</td>\n",
       "      <td>0</td>\n",
       "      <td>2015-10-30</td>\n",
       "      <td>0.1830</td>\n",
       "      <td>127.991</td>\n",
       "    </tr>\n",
       "    <tr>\n",
       "      <th>57388</th>\n",
       "      <td>0.764</td>\n",
       "      <td>2020</td>\n",
       "      <td>0.67100</td>\n",
       "      <td>['347aidan']</td>\n",
       "      <td>0.980</td>\n",
       "      <td>180139</td>\n",
       "      <td>0.413</td>\n",
       "      <td>0</td>\n",
       "      <td>6Pgmqg15yVexuOgtzuxwoX</td>\n",
       "      <td>0.000080</td>\n",
       "      <td>8</td>\n",
       "      <td>0.1700</td>\n",
       "      <td>-11.052</td>\n",
       "      <td>0</td>\n",
       "      <td>Dancing in My Room</td>\n",
       "      <td>77</td>\n",
       "      <td>2020-10-26</td>\n",
       "      <td>0.1010</td>\n",
       "      <td>119.993</td>\n",
       "    </tr>\n",
       "  </tbody>\n",
       "</table>\n",
       "</div>"
      ],
      "text/plain": [
       "        valence  year  acousticness                             artists  \\\n",
       "13489     0.929  1989       0.07550                        ['Tone-Loc']   \n",
       "167931    0.761  2007       0.14500  ['Young Boss', 'Trina', 'Pitbull']   \n",
       "170107    0.584  2018       0.21200                      ['ITSOKTOCRY']   \n",
       "154089    0.105  2015       0.00366                      ['Astra Teck']   \n",
       "57388     0.764  2020       0.67100                        ['347aidan']   \n",
       "\n",
       "        danceability  duration_ms  energy  explicit                      id  \\\n",
       "13489          0.988       248160   0.633         0  5YIF6HSOtHN9HdcE5IPzMe   \n",
       "167931         0.986       229669   0.597         1  5IbMUI4rcWtXlq83UWqTcQ   \n",
       "170107         0.985       138715   0.438         1  5N6USyYyAuSyysUQ1xncYc   \n",
       "154089         0.983       419999   0.673         0  2uFhbAbYjgvjnNkZ2tuMUA   \n",
       "57388          0.980       180139   0.413         0  6Pgmqg15yVexuOgtzuxwoX   \n",
       "\n",
       "        instrumentalness  key  liveness  loudness  mode  \\\n",
       "13489           0.000002    5    0.0668   -15.012     0   \n",
       "167931          0.000002    8    0.1970    -6.809     1   \n",
       "170107          0.000054    1    0.1160   -11.004     1   \n",
       "154089          0.687000    7    0.1120    -6.013     1   \n",
       "57388           0.000080    8    0.1700   -11.052     0   \n",
       "\n",
       "                         name  popularity release_date  speechiness    tempo  \n",
       "13489       Funky Cold Medina          56   1989-01-01       0.0888  117.493  \n",
       "167931                Go Girl          43   2007-11-27       0.3080  115.004  \n",
       "170107   POP, LOCK & DROPDEAD          60   2018-03-18       0.0712  118.079  \n",
       "154089  Monday Nineteen Hours           0   2015-10-30       0.1830  127.991  \n",
       "57388      Dancing in My Room          77   2020-10-26       0.1010  119.993  "
      ]
     },
     "execution_count": 11,
     "metadata": {},
     "output_type": "execute_result"
    }
   ],
   "source": [
    "# Which are the top 5 dancebility songs for all time?\n",
    "\n",
    "spotify.sort_values(by=['danceability'], ascending=False).head()"
   ]
  },
  {
   "cell_type": "code",
   "execution_count": 12,
   "id": "9390d61e-6849-4e23-9ce1-591e5651d9da",
   "metadata": {
    "tags": []
   },
   "outputs": [
    {
     "data": {
      "text/html": [
       "<div>\n",
       "<style scoped>\n",
       "    .dataframe tbody tr th:only-of-type {\n",
       "        vertical-align: middle;\n",
       "    }\n",
       "\n",
       "    .dataframe tbody tr th {\n",
       "        vertical-align: top;\n",
       "    }\n",
       "\n",
       "    .dataframe thead th {\n",
       "        text-align: right;\n",
       "    }\n",
       "</style>\n",
       "<table border=\"1\" class=\"dataframe\">\n",
       "  <thead>\n",
       "    <tr style=\"text-align: right;\">\n",
       "      <th></th>\n",
       "      <th>valence</th>\n",
       "      <th>year</th>\n",
       "      <th>acousticness</th>\n",
       "      <th>artists</th>\n",
       "      <th>danceability</th>\n",
       "      <th>duration_ms</th>\n",
       "      <th>energy</th>\n",
       "      <th>explicit</th>\n",
       "      <th>id</th>\n",
       "      <th>instrumentalness</th>\n",
       "      <th>key</th>\n",
       "      <th>liveness</th>\n",
       "      <th>loudness</th>\n",
       "      <th>mode</th>\n",
       "      <th>name</th>\n",
       "      <th>popularity</th>\n",
       "      <th>release_date</th>\n",
       "      <th>speechiness</th>\n",
       "      <th>tempo</th>\n",
       "    </tr>\n",
       "  </thead>\n",
       "  <tbody>\n",
       "    <tr>\n",
       "      <th>123847</th>\n",
       "      <td>0.3490</td>\n",
       "      <td>2015</td>\n",
       "      <td>0.8470</td>\n",
       "      <td>['Johann Strauss I', 'Zubin Mehta', 'Wiener Ph...</td>\n",
       "      <td>0.550</td>\n",
       "      <td>233507</td>\n",
       "      <td>0.543</td>\n",
       "      <td>0</td>\n",
       "      <td>018DZPUwfDKVrm0IXAP9YM</td>\n",
       "      <td>0.96100</td>\n",
       "      <td>2</td>\n",
       "      <td>0.970</td>\n",
       "      <td>-14.294</td>\n",
       "      <td>1</td>\n",
       "      <td>Radetzky-Marsch, Op. 228</td>\n",
       "      <td>8</td>\n",
       "      <td>2015-01-09</td>\n",
       "      <td>0.0738</td>\n",
       "      <td>98.185</td>\n",
       "    </tr>\n",
       "    <tr>\n",
       "      <th>123812</th>\n",
       "      <td>0.0907</td>\n",
       "      <td>2015</td>\n",
       "      <td>0.0307</td>\n",
       "      <td>['Chris McClarney']</td>\n",
       "      <td>0.408</td>\n",
       "      <td>326613</td>\n",
       "      <td>0.544</td>\n",
       "      <td>0</td>\n",
       "      <td>2RwzuFDm2uqTaMMXXSZSw6</td>\n",
       "      <td>0.00000</td>\n",
       "      <td>10</td>\n",
       "      <td>0.958</td>\n",
       "      <td>-8.280</td>\n",
       "      <td>1</td>\n",
       "      <td>God Of Miracles - Live</td>\n",
       "      <td>56</td>\n",
       "      <td>2015-06-09</td>\n",
       "      <td>0.0305</td>\n",
       "      <td>74.994</td>\n",
       "    </tr>\n",
       "    <tr>\n",
       "      <th>123813</th>\n",
       "      <td>0.0870</td>\n",
       "      <td>2015</td>\n",
       "      <td>0.1170</td>\n",
       "      <td>['A$AP Rocky', 'Joe Fox', 'Future', 'M.I.A.']</td>\n",
       "      <td>0.430</td>\n",
       "      <td>218547</td>\n",
       "      <td>0.522</td>\n",
       "      <td>1</td>\n",
       "      <td>2WxzLbJfPA2vJGxQiKd7Jq</td>\n",
       "      <td>0.31000</td>\n",
       "      <td>1</td>\n",
       "      <td>0.952</td>\n",
       "      <td>-10.372</td>\n",
       "      <td>1</td>\n",
       "      <td>Fine Whine (feat. Joe Fox, Future &amp; M.I.A.)</td>\n",
       "      <td>56</td>\n",
       "      <td>2015-05-26</td>\n",
       "      <td>0.0768</td>\n",
       "      <td>113.807</td>\n",
       "    </tr>\n",
       "    <tr>\n",
       "      <th>154592</th>\n",
       "      <td>0.5250</td>\n",
       "      <td>2015</td>\n",
       "      <td>0.0225</td>\n",
       "      <td>['Big Gigantic', 'GRiZ']</td>\n",
       "      <td>0.638</td>\n",
       "      <td>243519</td>\n",
       "      <td>0.891</td>\n",
       "      <td>0</td>\n",
       "      <td>68iIALIAQ03juj9BZpafox</td>\n",
       "      <td>0.00142</td>\n",
       "      <td>1</td>\n",
       "      <td>0.947</td>\n",
       "      <td>-4.764</td>\n",
       "      <td>1</td>\n",
       "      <td>Good Times Roll</td>\n",
       "      <td>53</td>\n",
       "      <td>2015-08-12</td>\n",
       "      <td>0.1080</td>\n",
       "      <td>99.979</td>\n",
       "    </tr>\n",
       "    <tr>\n",
       "      <th>154418</th>\n",
       "      <td>0.6550</td>\n",
       "      <td>2015</td>\n",
       "      <td>0.8180</td>\n",
       "      <td>['Eduard Strauss', 'Zubin Mehta', 'Wiener Phil...</td>\n",
       "      <td>0.445</td>\n",
       "      <td>139533</td>\n",
       "      <td>0.605</td>\n",
       "      <td>0</td>\n",
       "      <td>11DLagJxzDb0ExEP1dJW88</td>\n",
       "      <td>0.94300</td>\n",
       "      <td>2</td>\n",
       "      <td>0.944</td>\n",
       "      <td>-16.632</td>\n",
       "      <td>1</td>\n",
       "      <td>Mit Chic, Polka schnell, Op. 221</td>\n",
       "      <td>6</td>\n",
       "      <td>2015-01-09</td>\n",
       "      <td>0.7890</td>\n",
       "      <td>173.731</td>\n",
       "    </tr>\n",
       "  </tbody>\n",
       "</table>\n",
       "</div>"
      ],
      "text/plain": [
       "        valence  year  acousticness  \\\n",
       "123847   0.3490  2015        0.8470   \n",
       "123812   0.0907  2015        0.0307   \n",
       "123813   0.0870  2015        0.1170   \n",
       "154592   0.5250  2015        0.0225   \n",
       "154418   0.6550  2015        0.8180   \n",
       "\n",
       "                                                  artists  danceability  \\\n",
       "123847  ['Johann Strauss I', 'Zubin Mehta', 'Wiener Ph...         0.550   \n",
       "123812                                ['Chris McClarney']         0.408   \n",
       "123813      ['A$AP Rocky', 'Joe Fox', 'Future', 'M.I.A.']         0.430   \n",
       "154592                           ['Big Gigantic', 'GRiZ']         0.638   \n",
       "154418  ['Eduard Strauss', 'Zubin Mehta', 'Wiener Phil...         0.445   \n",
       "\n",
       "        duration_ms  energy  explicit                      id  \\\n",
       "123847       233507   0.543         0  018DZPUwfDKVrm0IXAP9YM   \n",
       "123812       326613   0.544         0  2RwzuFDm2uqTaMMXXSZSw6   \n",
       "123813       218547   0.522         1  2WxzLbJfPA2vJGxQiKd7Jq   \n",
       "154592       243519   0.891         0  68iIALIAQ03juj9BZpafox   \n",
       "154418       139533   0.605         0  11DLagJxzDb0ExEP1dJW88   \n",
       "\n",
       "        instrumentalness  key  liveness  loudness  mode  \\\n",
       "123847           0.96100    2     0.970   -14.294     1   \n",
       "123812           0.00000   10     0.958    -8.280     1   \n",
       "123813           0.31000    1     0.952   -10.372     1   \n",
       "154592           0.00142    1     0.947    -4.764     1   \n",
       "154418           0.94300    2     0.944   -16.632     1   \n",
       "\n",
       "                                               name  popularity release_date  \\\n",
       "123847                     Radetzky-Marsch, Op. 228           8   2015-01-09   \n",
       "123812                       God Of Miracles - Live          56   2015-06-09   \n",
       "123813  Fine Whine (feat. Joe Fox, Future & M.I.A.)          56   2015-05-26   \n",
       "154592                              Good Times Roll          53   2015-08-12   \n",
       "154418             Mit Chic, Polka schnell, Op. 221           6   2015-01-09   \n",
       "\n",
       "        speechiness    tempo  \n",
       "123847       0.0738   98.185  \n",
       "123812       0.0305   74.994  \n",
       "123813       0.0768  113.807  \n",
       "154592       0.1080   99.979  \n",
       "154418       0.7890  173.731  "
      ]
     },
     "execution_count": 12,
     "metadata": {},
     "output_type": "execute_result"
    }
   ],
   "source": [
    "# Which are the top 5 Liveness songs for 2015?\n",
    "\n",
    "is_2015= spotify['year']==2015\n",
    "spotify_2015 = spotify[is_2015]\n",
    "spotify_2015.sort_values(by=['liveness'], ascending=False).head()"
   ]
  },
  {
   "cell_type": "code",
   "execution_count": 30,
   "id": "091c2f62-d68a-4138-8e36-0f632e672975",
   "metadata": {
    "scrolled": true,
    "tags": []
   },
   "outputs": [
    {
     "data": {
      "text/plain": [
       "(100,)"
      ]
     },
     "execution_count": 30,
     "metadata": {},
     "output_type": "execute_result"
    },
    {
     "data": {
      "image/png": "[encoded data removed]",
      "text/plain": [
       "<Figure size 640x480 with 1 Axes>"
      ]
     },
     "metadata": {},
     "output_type": "display_data"
    }
   ],
   "source": [
    "# How has music duration evolve through the years? Plot\n",
    "\n",
    "spotify.groupby(['year']).mean()['duration_ms'].plot.bar()"
   ]
  },
  {
   "cell_type": "code",
   "execution_count": 34,
   "id": "3bb29863",
   "metadata": {
    "collapsed": true,
    "jupyter": {
     "outputs_hidden": true
    },
    "tags": []
   },
   "outputs": [
    {
     "ename": "ValueError",
     "evalue": "x and y must be the same size",
     "output_type": "error",
     "traceback": [
      "\u001b[1;31m---------------------------------------------------------------------------\u001b[0m",
      "\u001b[1;31mValueError\u001b[0m                                Traceback (most recent call last)",
      "\u001b[1;32m~\\AppData\\Local\\Temp\\ipykernel_2436\\2266163519.py\u001b[0m in \u001b[0;36m<module>\u001b[1;34m\u001b[0m\n\u001b[0;32m      2\u001b[0m \u001b[1;33m\u001b[0m\u001b[0m\n\u001b[0;32m      3\u001b[0m \u001b[0mplt\u001b[0m\u001b[1;33m.\u001b[0m\u001b[0mfigure\u001b[0m\u001b[1;33m(\u001b[0m\u001b[0mfigsize\u001b[0m\u001b[1;33m=\u001b[0m\u001b[1;33m(\u001b[0m\u001b[1;36m25\u001b[0m\u001b[1;33m,\u001b[0m\u001b[1;36m6\u001b[0m\u001b[1;33m)\u001b[0m\u001b[1;33m,\u001b[0m\u001b[0mdpi\u001b[0m\u001b[1;33m=\u001b[0m\u001b[1;36m80\u001b[0m\u001b[1;33m)\u001b[0m\u001b[1;33m\u001b[0m\u001b[1;33m\u001b[0m\u001b[0m\n\u001b[1;32m----> 4\u001b[1;33m \u001b[0mplt\u001b[0m\u001b[1;33m.\u001b[0m\u001b[0mscatter\u001b[0m\u001b[1;33m(\u001b[0m\u001b[0mx\u001b[0m\u001b[1;33m=\u001b[0m\u001b[0mspotify\u001b[0m\u001b[1;33m[\u001b[0m\u001b[1;34m'year'\u001b[0m\u001b[1;33m]\u001b[0m\u001b[1;33m,\u001b[0m \u001b[0my\u001b[0m\u001b[1;33m=\u001b[0m\u001b[0mspotify\u001b[0m\u001b[1;33m.\u001b[0m\u001b[0mgroupby\u001b[0m\u001b[1;33m(\u001b[0m\u001b[1;33m[\u001b[0m\u001b[1;34m'year'\u001b[0m\u001b[1;33m]\u001b[0m\u001b[1;33m)\u001b[0m\u001b[1;33m.\u001b[0m\u001b[0mmean\u001b[0m\u001b[1;33m(\u001b[0m\u001b[1;33m)\u001b[0m\u001b[1;33m[\u001b[0m\u001b[1;34m'duration_ms'\u001b[0m\u001b[1;33m]\u001b[0m\u001b[1;33m)\u001b[0m\u001b[1;33m\u001b[0m\u001b[1;33m\u001b[0m\u001b[0m\n\u001b[0m",
      "\u001b[1;32m~\\anaconda3\\lib\\site-packages\\matplotlib\\pyplot.py\u001b[0m in \u001b[0;36mscatter\u001b[1;34m(x, y, s, c, marker, cmap, norm, vmin, vmax, alpha, linewidths, edgecolors, plotnonfinite, data, **kwargs)\u001b[0m\n\u001b[0;32m   2817\u001b[0m         \u001b[0mvmin\u001b[0m\u001b[1;33m=\u001b[0m\u001b[1;32mNone\u001b[0m\u001b[1;33m,\u001b[0m \u001b[0mvmax\u001b[0m\u001b[1;33m=\u001b[0m\u001b[1;32mNone\u001b[0m\u001b[1;33m,\u001b[0m \u001b[0malpha\u001b[0m\u001b[1;33m=\u001b[0m\u001b[1;32mNone\u001b[0m\u001b[1;33m,\u001b[0m \u001b[0mlinewidths\u001b[0m\u001b[1;33m=\u001b[0m\u001b[1;32mNone\u001b[0m\u001b[1;33m,\u001b[0m \u001b[1;33m*\u001b[0m\u001b[1;33m,\u001b[0m\u001b[1;33m\u001b[0m\u001b[1;33m\u001b[0m\u001b[0m\n\u001b[0;32m   2818\u001b[0m         edgecolors=None, plotnonfinite=False, data=None, **kwargs):\n\u001b[1;32m-> 2819\u001b[1;33m     __ret = gca().scatter(\n\u001b[0m\u001b[0;32m   2820\u001b[0m         \u001b[0mx\u001b[0m\u001b[1;33m,\u001b[0m \u001b[0my\u001b[0m\u001b[1;33m,\u001b[0m \u001b[0ms\u001b[0m\u001b[1;33m=\u001b[0m\u001b[0ms\u001b[0m\u001b[1;33m,\u001b[0m \u001b[0mc\u001b[0m\u001b[1;33m=\u001b[0m\u001b[0mc\u001b[0m\u001b[1;33m,\u001b[0m \u001b[0mmarker\u001b[0m\u001b[1;33m=\u001b[0m\u001b[0mmarker\u001b[0m\u001b[1;33m,\u001b[0m \u001b[0mcmap\u001b[0m\u001b[1;33m=\u001b[0m\u001b[0mcmap\u001b[0m\u001b[1;33m,\u001b[0m \u001b[0mnorm\u001b[0m\u001b[1;33m=\u001b[0m\u001b[0mnorm\u001b[0m\u001b[1;33m,\u001b[0m\u001b[1;33m\u001b[0m\u001b[1;33m\u001b[0m\u001b[0m\n\u001b[0;32m   2821\u001b[0m         \u001b[0mvmin\u001b[0m\u001b[1;33m=\u001b[0m\u001b[0mvmin\u001b[0m\u001b[1;33m,\u001b[0m \u001b[0mvmax\u001b[0m\u001b[1;33m=\u001b[0m\u001b[0mvmax\u001b[0m\u001b[1;33m,\u001b[0m \u001b[0malpha\u001b[0m\u001b[1;33m=\u001b[0m\u001b[0malpha\u001b[0m\u001b[1;33m,\u001b[0m \u001b[0mlinewidths\u001b[0m\u001b[1;33m=\u001b[0m\u001b[0mlinewidths\u001b[0m\u001b[1;33m,\u001b[0m\u001b[1;33m\u001b[0m\u001b[1;33m\u001b[0m\u001b[0m\n",
      "\u001b[1;32m~\\anaconda3\\lib\\site-packages\\matplotlib\\__init__.py\u001b[0m in \u001b[0;36minner\u001b[1;34m(ax, data, *args, **kwargs)\u001b[0m\n\u001b[0;32m   1410\u001b[0m     \u001b[1;32mdef\u001b[0m \u001b[0minner\u001b[0m\u001b[1;33m(\u001b[0m\u001b[0max\u001b[0m\u001b[1;33m,\u001b[0m \u001b[1;33m*\u001b[0m\u001b[0margs\u001b[0m\u001b[1;33m,\u001b[0m \u001b[0mdata\u001b[0m\u001b[1;33m=\u001b[0m\u001b[1;32mNone\u001b[0m\u001b[1;33m,\u001b[0m \u001b[1;33m**\u001b[0m\u001b[0mkwargs\u001b[0m\u001b[1;33m)\u001b[0m\u001b[1;33m:\u001b[0m\u001b[1;33m\u001b[0m\u001b[1;33m\u001b[0m\u001b[0m\n\u001b[0;32m   1411\u001b[0m         \u001b[1;32mif\u001b[0m \u001b[0mdata\u001b[0m \u001b[1;32mis\u001b[0m \u001b[1;32mNone\u001b[0m\u001b[1;33m:\u001b[0m\u001b[1;33m\u001b[0m\u001b[1;33m\u001b[0m\u001b[0m\n\u001b[1;32m-> 1412\u001b[1;33m             \u001b[1;32mreturn\u001b[0m \u001b[0mfunc\u001b[0m\u001b[1;33m(\u001b[0m\u001b[0max\u001b[0m\u001b[1;33m,\u001b[0m \u001b[1;33m*\u001b[0m\u001b[0mmap\u001b[0m\u001b[1;33m(\u001b[0m\u001b[0msanitize_sequence\u001b[0m\u001b[1;33m,\u001b[0m \u001b[0margs\u001b[0m\u001b[1;33m)\u001b[0m\u001b[1;33m,\u001b[0m \u001b[1;33m**\u001b[0m\u001b[0mkwargs\u001b[0m\u001b[1;33m)\u001b[0m\u001b[1;33m\u001b[0m\u001b[1;33m\u001b[0m\u001b[0m\n\u001b[0m\u001b[0;32m   1413\u001b[0m \u001b[1;33m\u001b[0m\u001b[0m\n\u001b[0;32m   1414\u001b[0m         \u001b[0mbound\u001b[0m \u001b[1;33m=\u001b[0m \u001b[0mnew_sig\u001b[0m\u001b[1;33m.\u001b[0m\u001b[0mbind\u001b[0m\u001b[1;33m(\u001b[0m\u001b[0max\u001b[0m\u001b[1;33m,\u001b[0m \u001b[1;33m*\u001b[0m\u001b[0margs\u001b[0m\u001b[1;33m,\u001b[0m \u001b[1;33m**\u001b[0m\u001b[0mkwargs\u001b[0m\u001b[1;33m)\u001b[0m\u001b[1;33m\u001b[0m\u001b[1;33m\u001b[0m\u001b[0m\n",
      "\u001b[1;32m~\\anaconda3\\lib\\site-packages\\matplotlib\\axes\\_axes.py\u001b[0m in \u001b[0;36mscatter\u001b[1;34m(self, x, y, s, c, marker, cmap, norm, vmin, vmax, alpha, linewidths, edgecolors, plotnonfinite, **kwargs)\u001b[0m\n\u001b[0;32m   4360\u001b[0m         \u001b[0my\u001b[0m \u001b[1;33m=\u001b[0m \u001b[0mnp\u001b[0m\u001b[1;33m.\u001b[0m\u001b[0mma\u001b[0m\u001b[1;33m.\u001b[0m\u001b[0mravel\u001b[0m\u001b[1;33m(\u001b[0m\u001b[0my\u001b[0m\u001b[1;33m)\u001b[0m\u001b[1;33m\u001b[0m\u001b[1;33m\u001b[0m\u001b[0m\n\u001b[0;32m   4361\u001b[0m         \u001b[1;32mif\u001b[0m \u001b[0mx\u001b[0m\u001b[1;33m.\u001b[0m\u001b[0msize\u001b[0m \u001b[1;33m!=\u001b[0m \u001b[0my\u001b[0m\u001b[1;33m.\u001b[0m\u001b[0msize\u001b[0m\u001b[1;33m:\u001b[0m\u001b[1;33m\u001b[0m\u001b[1;33m\u001b[0m\u001b[0m\n\u001b[1;32m-> 4362\u001b[1;33m             \u001b[1;32mraise\u001b[0m \u001b[0mValueError\u001b[0m\u001b[1;33m(\u001b[0m\u001b[1;34m\"x and y must be the same size\"\u001b[0m\u001b[1;33m)\u001b[0m\u001b[1;33m\u001b[0m\u001b[1;33m\u001b[0m\u001b[0m\n\u001b[0m\u001b[0;32m   4363\u001b[0m \u001b[1;33m\u001b[0m\u001b[0m\n\u001b[0;32m   4364\u001b[0m         \u001b[1;32mif\u001b[0m \u001b[0ms\u001b[0m \u001b[1;32mis\u001b[0m \u001b[1;32mNone\u001b[0m\u001b[1;33m:\u001b[0m\u001b[1;33m\u001b[0m\u001b[1;33m\u001b[0m\u001b[0m\n",
      "\u001b[1;31mValueError\u001b[0m: x and y must be the same size"
     ]
    },
    {
     "data": {
      "image/png": "[encoded data removed]",
      "text/plain": [
       "<Figure size 2000x480 with 1 Axes>"
      ]
     },
     "metadata": {},
     "output_type": "display_data"
    }
   ],
   "source": [
    "#Adjusting Plot\n",
    "\n",
    "plt.figure(figsize=(25,6),dpi=80)\n",
    "plt.scatter(x=spotify['year'], y=spotify.groupby(['year']).mean()['duration_ms'])\n"
   ]
  },
  {
   "cell_type": "code",
   "execution_count": 19,
   "id": "be18853a-8f6d-4116-95e7-087c2b1bf8a4",
   "metadata": {
    "tags": []
   },
   "outputs": [
    {
     "name": "stdout",
     "output_type": "stream",
     "text": [
      "Minimo:  1921\n",
      "Maximo:  2020\n"
     ]
    }
   ],
   "source": [
    "#Which years are considered in the dataset?\n",
    "spotify.groupby(['year']).count()['id']\n",
    "print('Minimo: ', spotify['year'].min())\n",
    "print('Maximo: ', spotify['year'].max()) \n",
    "      "
   ]
  },
  {
   "cell_type": "code",
   "execution_count": 20,
   "id": "5ce2a88b-4ac8-48d2-863d-1a4b3e554236",
   "metadata": {
    "tags": []
   },
   "outputs": [
    {
     "data": {
      "text/plain": [
       "year\n",
       "2018    2070\n",
       "1955    1990\n",
       "1998    1986\n",
       "1958    1983\n",
       "1996    1982\n",
       "        ... \n",
       "1925     276\n",
       "1924     236\n",
       "1923     184\n",
       "1921     139\n",
       "1922      70\n",
       "Name: id, Length: 100, dtype: int64"
      ]
     },
     "execution_count": 20,
     "metadata": {},
     "output_type": "execute_result"
    }
   ],
   "source": [
    "#Which year is the most represented?\n",
    "spotify.groupby(['year']).count()['id'].sort_values(ascending=False)\n",
    "\n"
   ]
  },
  {
   "cell_type": "code",
   "execution_count": 24,
   "id": "c2730b5d-b2df-48a4-9218-cab561fa89dc",
   "metadata": {
    "tags": []
   },
   "outputs": [
    {
     "data": {
      "text/plain": [
       "year\n",
       "2020    66.373842\n",
       "2019    65.004724\n",
       "2018    63.160870\n",
       "2017    63.076410\n",
       "2016    59.568839\n",
       "          ...    \n",
       "1924     0.661017\n",
       "1921     0.582734\n",
       "1929     0.286316\n",
       "1931     0.144958\n",
       "1922     0.142857\n",
       "Name: popularity, Length: 100, dtype: float64"
      ]
     },
     "execution_count": 24,
     "metadata": {},
     "output_type": "execute_result"
    }
   ],
   "source": [
    "#Which year has the most popular songs?\n",
    "spotify.groupby(['year']).mean()['popularity'].sort_values(ascending=False)"
   ]
  },
  {
   "cell_type": "code",
   "execution_count": 25,
   "id": "c0597435-159e-4f4a-a92f-a71808384664",
   "metadata": {
    "tags": []
   },
   "outputs": [
    {
     "data": {
      "text/plain": [
       "artists\n",
       "['Bad Bunny', 'Jhay Cortez']                                                     100.0\n",
       "['24kGoldn', 'iann dior']                                                         99.0\n",
       "['Cardi B', 'Megan Thee Stallion']                                                96.0\n",
       "['Justin Bieber', 'benny blanco']                                                 95.0\n",
       "['Sech', 'Daddy Yankee', 'J Balvin', 'ROSALÍA', 'Farruko']                        94.0\n",
       "                                                                                 ...  \n",
       "['Asha Bhosle', 'Devinder']                                                        0.0\n",
       "['Henri Duparc', 'Bidu Sayão', 'Paul Breisach', 'Columbia Concert Orchestra']      0.0\n",
       "['Silvia De Grasse', 'Chapuseaux y Damirón']                                       0.0\n",
       "['Henri Michaux']                                                                  0.0\n",
       "['Hafız Burhan']                                                                   0.0\n",
       "Name: popularity, Length: 34031, dtype: float64"
      ]
     },
     "execution_count": 25,
     "metadata": {},
     "output_type": "execute_result"
    }
   ],
   "source": [
    "#Which are the most popular artist in history?\n",
    "spotify.groupby(['artists']).mean()['popularity'].sort_values(ascending=False)"
   ]
  },
  {
   "cell_type": "code",
   "execution_count": 26,
   "id": "26a07908-3127-4d43-b545-00ce47da8ed4",
   "metadata": {
    "tags": []
   },
   "outputs": [
    {
     "data": {
      "text/plain": [
       "artists\n",
       "['Pierre Dac', 'Francis Blanche']                                        0.964000\n",
       "['Alcoholics Anonymous']                                                 0.961651\n",
       "['Ernest Hemingway', 'Christian Brückner']                               0.960909\n",
       "['Michael Jackson', 'Rod Temperton', 'Vincent Price']                    0.960000\n",
       "['Ludwig van Beethoven', 'Announcer, May 12, 1946 - Madison, WI']        0.960000\n",
       "                                                                           ...   \n",
       "['The White Noise Zen & Meditation Sound Lab']                           0.000000\n",
       "['Bruce Brus']                                                           0.000000\n",
       "['Sound Dreamer']                                                        0.000000\n",
       "['Erik Eriksson', 'White Noise Baby Sleep', 'White Noise for Babies']    0.000000\n",
       "['Crain & Taylor']                                                       0.000000\n",
       "Name: speechiness, Length: 34031, dtype: float64"
      ]
     },
     "execution_count": 26,
     "metadata": {},
     "output_type": "execute_result"
    }
   ],
   "source": [
    "#Which artist has the most speechi songs?\n",
    "spotify.groupby(['artists']).mean()['speechiness'].sort_values(ascending=False)"
   ]
  },
  {
   "cell_type": "code",
   "execution_count": 54,
   "id": "37782160-96d3-4f30-b843-bea37ca0c40d",
   "metadata": {
    "tags": []
   },
   "outputs": [
    {
     "data": {
      "text/plain": [
       "<AxesSubplot:>"
      ]
     },
     "execution_count": 54,
     "metadata": {},
     "output_type": "execute_result"
    },
    {
     "data": {
      "image/png": "[encoded data removed]",
      "text/plain": [
       "<Figure size 640x480 with 2 Axes>"
      ]
     },
     "metadata": {},
     "output_type": "display_data"
    }
   ],
   "source": [
    "#Which are the most important characteristics for popularity?\n",
    "spotifyval=spotify[['popularity','valence','year','acousticness','danceability','duration_ms','energy','explicit','instrumentalness','liveness','loudness','speechiness','tempo']]\n",
    "sns.heatmap(spotifyval.corr())\n"
   ]
  },
  {
   "cell_type": "code",
   "execution_count": 48,
   "id": "52931f73",
   "metadata": {
    "tags": []
   },
   "outputs": [
    {
     "data": {
      "text/plain": [
       "0.00      0.0\n",
       "0.25     66.0\n",
       "0.50     70.0\n",
       "0.75     76.0\n",
       "1.00    100.0\n",
       "Name: popularity, dtype: float64"
      ]
     },
     "execution_count": 48,
     "metadata": {},
     "output_type": "execute_result"
    }
   ],
   "source": [
    "# How is popularity distributed for 2020?\n",
    "is_2020 = spotify['year']==2020\n",
    "spotify_2020 = spotify[is_2020]\n",
    "spotify_2020['popularity'].quantile([0,0.25,0.5,0.75,1])\n"
   ]
  },
  {
   "cell_type": "code",
   "execution_count": 50,
   "id": "b6cd5707",
   "metadata": {
    "tags": []
   },
   "outputs": [
    {
     "name": "stdout",
     "output_type": "stream",
     "text": [
      "min:  0\n",
      "med:  70.0\n",
      "max:  100\n"
     ]
    }
   ],
   "source": [
    "print('min: ', spotify_2020['popularity'].min())\n",
    "print('med: ', spotify_2020['popularity'].median())\n",
    "print('max: ', spotify_2020['popularity'].max())\n"
   ]
  },
  {
   "cell_type": "code",
   "execution_count": 56,
   "id": "c630066b",
   "metadata": {
    "tags": []
   },
   "outputs": [
    {
     "data": {
      "text/plain": [
       "<AxesSubplot:>"
      ]
     },
     "execution_count": 56,
     "metadata": {},
     "output_type": "execute_result"
    },
    {
     "data": {
      "image/png": "[encoded data removed]",
      "text/plain": [
       "<Figure size 640x480 with 2 Axes>"
      ]
     },
     "metadata": {},
     "output_type": "display_data"
    }
   ],
   "source": [
    "spotifyval_2020=spotify_2020[['popularity','valence','acousticness','danceability','duration_ms','energy','explicit','instrumentalness','liveness','loudness','speechiness','tempo']]\n",
    "sns.heatmap(spotifyval_2020.corr())"
   ]
  },
  {
   "cell_type": "code",
   "execution_count": null,
   "id": "4b15bded",
   "metadata": {},
   "outputs": [],
   "source": []
  }
 ],
 "metadata": {
  "kernelspec": {
   "display_name": "Python 3 (ipykernel)",
   "language": "python",
   "name": "python3"
  },
  "language_info": {
   "codemirror_mode": {
    "name": "ipython",
    "version": 3
   },
   "file_extension": ".py",
   "mimetype": "text/x-python",
   "name": "python",
   "nbconvert_exporter": "python",
   "pygments_lexer": "ipython3",
   "version": "3.9.13"
  }
 },
 "nbformat": 4,
 "nbformat_minor": 5
}
